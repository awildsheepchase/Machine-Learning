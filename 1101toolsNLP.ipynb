{
  "nbformat": 4,
  "nbformat_minor": 0,
  "metadata": {
    "colab": {
      "provenance": [],
      "include_colab_link": true
    },
    "kernelspec": {
      "name": "python3",
      "display_name": "Python 3"
    },
    "language_info": {
      "name": "python"
    }
  },
  "cells": [
    {
      "cell_type": "markdown",
      "metadata": {
        "id": "view-in-github",
        "colab_type": "text"
      },
      "source": [
        "<a href=\"https://colab.research.google.com/github/awildsheepchase/Machine-Learning/blob/main/1101toolsNLP.ipynb\" target=\"_parent\"><img src=\"https://colab.research.google.com/assets/colab-badge.svg\" alt=\"Open In Colab\"/></a>"
      ]
    },
    {
      "cell_type": "code",
      "source": [
        "!pip install opencc-python-reimplemented\n"
      ],
      "metadata": {
        "id": "ATsx23bqeC1N",
        "colab": {
          "base_uri": "https://localhost:8080/"
        },
        "outputId": "cb20613c-e36e-41f1-fce8-51e3e6feca35"
      },
      "execution_count": null,
      "outputs": [
        {
          "output_type": "stream",
          "name": "stdout",
          "text": [
            "Looking in indexes: https://pypi.org/simple, https://us-python.pkg.dev/colab-wheels/public/simple/\n",
            "Collecting opencc-python-reimplemented\n",
            "  Downloading opencc-python-reimplemented-0.1.6.tar.gz (484 kB)\n",
            "\u001b[?25l\r\u001b[K     |▊                               | 10 kB 25.5 MB/s eta 0:00:01\r\u001b[K     |█▍                              | 20 kB 33.2 MB/s eta 0:00:01\r\u001b[K     |██                              | 30 kB 43.4 MB/s eta 0:00:01\r\u001b[K     |██▊                             | 40 kB 31.8 MB/s eta 0:00:01\r\u001b[K     |███▍                            | 51 kB 29.6 MB/s eta 0:00:01\r\u001b[K     |████                            | 61 kB 33.8 MB/s eta 0:00:01\r\u001b[K     |████▊                           | 71 kB 30.4 MB/s eta 0:00:01\r\u001b[K     |█████▍                          | 81 kB 22.9 MB/s eta 0:00:01\r\u001b[K     |██████                          | 92 kB 25.1 MB/s eta 0:00:01\r\u001b[K     |██████▊                         | 102 kB 26.9 MB/s eta 0:00:01\r\u001b[K     |███████▍                        | 112 kB 26.9 MB/s eta 0:00:01\r\u001b[K     |████████▏                       | 122 kB 26.9 MB/s eta 0:00:01\r\u001b[K     |████████▉                       | 133 kB 26.9 MB/s eta 0:00:01\r\u001b[K     |█████████▌                      | 143 kB 26.9 MB/s eta 0:00:01\r\u001b[K     |██████████▏                     | 153 kB 26.9 MB/s eta 0:00:01\r\u001b[K     |██████████▉                     | 163 kB 26.9 MB/s eta 0:00:01\r\u001b[K     |███████████▌                    | 174 kB 26.9 MB/s eta 0:00:01\r\u001b[K     |████████████▏                   | 184 kB 26.9 MB/s eta 0:00:01\r\u001b[K     |████████████▉                   | 194 kB 26.9 MB/s eta 0:00:01\r\u001b[K     |█████████████▌                  | 204 kB 26.9 MB/s eta 0:00:01\r\u001b[K     |██████████████▏                 | 215 kB 26.9 MB/s eta 0:00:01\r\u001b[K     |██████████████▉                 | 225 kB 26.9 MB/s eta 0:00:01\r\u001b[K     |███████████████▌                | 235 kB 26.9 MB/s eta 0:00:01\r\u001b[K     |████████████████▎               | 245 kB 26.9 MB/s eta 0:00:01\r\u001b[K     |█████████████████               | 256 kB 26.9 MB/s eta 0:00:01\r\u001b[K     |█████████████████▋              | 266 kB 26.9 MB/s eta 0:00:01\r\u001b[K     |██████████████████▎             | 276 kB 26.9 MB/s eta 0:00:01\r\u001b[K     |███████████████████             | 286 kB 26.9 MB/s eta 0:00:01\r\u001b[K     |███████████████████▋            | 296 kB 26.9 MB/s eta 0:00:01\r\u001b[K     |████████████████████▎           | 307 kB 26.9 MB/s eta 0:00:01\r\u001b[K     |█████████████████████           | 317 kB 26.9 MB/s eta 0:00:01\r\u001b[K     |█████████████████████▋          | 327 kB 26.9 MB/s eta 0:00:01\r\u001b[K     |██████████████████████▎         | 337 kB 26.9 MB/s eta 0:00:01\r\u001b[K     |███████████████████████         | 348 kB 26.9 MB/s eta 0:00:01\r\u001b[K     |███████████████████████▊        | 358 kB 26.9 MB/s eta 0:00:01\r\u001b[K     |████████████████████████▍       | 368 kB 26.9 MB/s eta 0:00:01\r\u001b[K     |█████████████████████████       | 378 kB 26.9 MB/s eta 0:00:01\r\u001b[K     |█████████████████████████▊      | 389 kB 26.9 MB/s eta 0:00:01\r\u001b[K     |██████████████████████████▍     | 399 kB 26.9 MB/s eta 0:00:01\r\u001b[K     |███████████████████████████     | 409 kB 26.9 MB/s eta 0:00:01\r\u001b[K     |███████████████████████████▊    | 419 kB 26.9 MB/s eta 0:00:01\r\u001b[K     |████████████████████████████▍   | 430 kB 26.9 MB/s eta 0:00:01\r\u001b[K     |█████████████████████████████   | 440 kB 26.9 MB/s eta 0:00:01\r\u001b[K     |█████████████████████████████▊  | 450 kB 26.9 MB/s eta 0:00:01\r\u001b[K     |██████████████████████████████▍ | 460 kB 26.9 MB/s eta 0:00:01\r\u001b[K     |███████████████████████████████ | 471 kB 26.9 MB/s eta 0:00:01\r\u001b[K     |███████████████████████████████▉| 481 kB 26.9 MB/s eta 0:00:01\r\u001b[K     |████████████████████████████████| 484 kB 26.9 MB/s \n",
            "\u001b[?25hBuilding wheels for collected packages: opencc-python-reimplemented\n",
            "  Building wheel for opencc-python-reimplemented (setup.py) ... \u001b[?25l\u001b[?25hdone\n",
            "  Created wheel for opencc-python-reimplemented: filename=opencc_python_reimplemented-0.1.6-py2.py3-none-any.whl size=486152 sha256=70c67013f6e6a07323f9499c1c5f1843730b9c539b7e05412d5b312552a4fdde\n",
            "  Stored in directory: /root/.cache/pip/wheels/4e/e2/60/d062d260be08788bb389521544a8fc173de9a9a78d6a593344\n",
            "Successfully built opencc-python-reimplemented\n",
            "Installing collected packages: opencc-python-reimplemented\n",
            "Successfully installed opencc-python-reimplemented-0.1.6\n"
          ]
        }
      ]
    },
    {
      "cell_type": "code",
      "source": [
        "from opencc import OpenCC\n",
        "cc = OpenCC('s2tw')  \n",
        "to_convert = '开放中文转换'\n",
        "converted = cc.convert(to_convert)\n",
        "converted"
      ],
      "metadata": {
        "colab": {
          "base_uri": "https://localhost:8080/",
          "height": 35
        },
        "id": "El5GYXmdx2iJ",
        "outputId": "fecfc1cd-807d-4453-95e0-ee266375cfe6"
      },
      "execution_count": null,
      "outputs": [
        {
          "output_type": "execute_result",
          "data": {
            "text/plain": [
              "'開放中文轉換'"
            ],
            "application/vnd.google.colaboratory.intrinsic+json": {
              "type": "string"
            }
          },
          "metadata": {},
          "execution_count": 2
        }
      ]
    },
    {
      "cell_type": "code",
      "source": [
        "import jieba\n",
        "from urllib.request import urlretrieve\n",
        "# 使用大辭典分詞\n",
        "url = \"https://github.com/fxsjy/jieba/raw/master/extra_dict/dict.txt.big\"\n",
        "urlretrieve(url, \"dict.big\")\n",
        "jieba.set_dictionary(\"dict.big\")\n",
        "# 上傳並使用自建辭典\n",
        "jieba.load_userdict(\"dict.my.txt\")\n",
        "# 上傳文章\n",
        "with open (\"新聞.txt\",\"r\",encoding = \"utf-8\") as f:\n",
        "    news = f.read()\n",
        "\" \".join(jieba.cut(news))"
      ],
      "metadata": {
        "colab": {
          "base_uri": "https://localhost:8080/",
          "height": 232
        },
        "id": "UYG2Yl7c0xD0",
        "outputId": "be57e323-8754-4716-cac2-4fde2c4e9ecc"
      },
      "execution_count": null,
      "outputs": [
        {
          "output_type": "stream",
          "name": "stderr",
          "text": [
            "Building prefix dict from /content/dict.big ...\n",
            "DEBUG:jieba:Building prefix dict from /content/dict.big ...\n",
            "Dumping model to file cache /tmp/jieba.u07306b11e64fa1786267fcd71f361dde.cache\n",
            "DEBUG:jieba:Dumping model to file cache /tmp/jieba.u07306b11e64fa1786267fcd71f361dde.cache\n",
            "Loading model cost 1.312 seconds.\n",
            "DEBUG:jieba:Loading model cost 1.312 seconds.\n",
            "Prefix dict has been built successfully.\n",
            "DEBUG:jieba:Prefix dict has been built successfully.\n"
          ]
        },
        {
          "output_type": "execute_result",
          "data": {
            "text/plain": [
              "'隨著 鴻海 鄭州   iPhone   工廠 爆發 疫情 ， 外界 開始 擔心   iPhone   供應 將 大幅 縮減 。 而 事件 發生 後 ， 全球   iPhone   14   及   iPhone   14   Plus   的 出貨 時間 已 延長 。 美國 方面 ， iPhone   14   Pro   的 出貨 時間 從   24   天 增至   32   天 。 而 中國 方面 ， iPhone   14   Pro   的 出貨 時間 從 原本 的   22   天 增至   29   天 ； 而   iPhone   14   則由   2   天 增至   4   天 ； 至於   iPhone   14   Plus   則由   1   天 增至   2   天 。'"
            ],
            "application/vnd.google.colaboratory.intrinsic+json": {
              "type": "string"
            }
          },
          "metadata": {},
          "execution_count": 5
        }
      ]
    },
    {
      "cell_type": "code",
      "source": [
        "import jieba.analyse\n",
        "\n",
        "jieba.analyse.extract_tags(news)\n",
        "# 列出前10\n",
        "jieba.analyse.extract_tags(news,topK=10)\n",
        "# 列出全部與其分數\n",
        "jieba.analyse.extract_tags(news,topK=None, withWeight=True)\n",
        "# 找特定詞性\n",
        "jieba.analyse.extract_tags(news,allowPOS=[\"ns\"])\n"
      ],
      "metadata": {
        "colab": {
          "base_uri": "https://localhost:8080/"
        },
        "id": "j0WRI5L1IwAD",
        "outputId": "d7d0d020-7f45-432a-e550-157a99576ce6"
      },
      "execution_count": null,
      "outputs": [
        {
          "output_type": "execute_result",
          "data": {
            "text/plain": [
              "['鄭州', '美國', '中國']"
            ]
          },
          "metadata": {},
          "execution_count": 15
        }
      ]
    },
    {
      "cell_type": "code",
      "source": [
        "from urllib.request import urlretrieve\n",
        "url = \"https://github.com/Elwing-Chou/tibaml1017/raw/main/poem_train.csv\"\n",
        "urlretrieve(url, \"train.csv\")\n",
        "url2 = \"https://github.com/Elwing-Chou/tibaml1017/raw/main/poem_test.csv\"\n",
        "urlretrieve(url2, \"test.csv\")\n"
      ],
      "metadata": {
        "colab": {
          "base_uri": "https://localhost:8080/"
        },
        "id": "SEd5nF38SV1U",
        "outputId": "c397e998-57eb-4c68-a06d-7ab53b255647"
      },
      "execution_count": null,
      "outputs": [
        {
          "output_type": "execute_result",
          "data": {
            "text/plain": [
              "('test.csv', <http.client.HTTPMessage at 0x7f9ced7e1f50>)"
            ]
          },
          "metadata": {},
          "execution_count": 16
        }
      ]
    },
    {
      "cell_type": "code",
      "source": [
        "import pandas as pd\n",
        "train_df = pd.read_csv(\"train.csv\", encoding = \"utf-8\")\n",
        "test_df = pd.read_csv(\"test.csv\", encoding = \"utf-8\")\n"
      ],
      "metadata": {
        "id": "QZOyQ4rRTJND"
      },
      "execution_count": null,
      "outputs": []
    },
    {
      "cell_type": "code",
      "source": [
        "test_df"
      ],
      "metadata": {
        "colab": {
          "base_uri": "https://localhost:8080/",
          "height": 1000
        },
        "id": "1WdVAsMmTcoA",
        "outputId": "7e2beada-0410-4c70-d3e5-081fb8c8ab26"
      },
      "execution_count": null,
      "outputs": [
        {
          "output_type": "execute_result",
          "data": {
            "text/plain": [
              "     作者                    詩名  \\\n",
              "0    李白                 望廬山瀑布   \n",
              "1    李白                 早發白帝城   \n",
              "2    李白                   贈汪倫   \n",
              "3    李白               送孟浩然之廣陵   \n",
              "4    李白                  夜宿山寺   \n",
              "5    李白                   靜夜思   \n",
              "6    李白                  望天門山   \n",
              "7    李白                 獨坐敬亭山   \n",
              "8    李白                登金陵鳳凰台   \n",
              "9    李白                 渡荊門送彆   \n",
              "10   杜甫                  彆讚上人   \n",
              "11   杜甫                   龍門鎮   \n",
              "12   杜甫                   木皮嶺   \n",
              "13   杜甫                    落日   \n",
              "14   杜甫          入奏行贈西山檢察使竇侍禦   \n",
              "15   杜甫                    麗春   \n",
              "16   杜甫               題玄武禪師屋壁   \n",
              "17   杜甫                 謁文公上方   \n",
              "18   杜甫                    杜鵑   \n",
              "19   杜甫                   縛雞行   \n",
              "20  白居易                    聽歌   \n",
              "21  白居易                  追歡偶作   \n",
              "22  白居易             酬夢得貧居詠懷見贈   \n",
              "23  白居易              閒坐看書貽諸少年   \n",
              "24  白居易  二年三月五日齋畢開素當食偶吟贈妻弘農郡君   \n",
              "25  白居易                履道西門二首   \n",
              "26  白居易                 昨日複今辰   \n",
              "27  白居易                 不與老為期   \n",
              "28  白居易                    閒眠   \n",
              "29  白居易   和李相公留守題漕上新橋六韻　同用黎字。   \n",
              "\n",
              "                                                   內容  \n",
              "0                    日照香爐生紫煙，遙看瀑布掛前川。飛流直下三千尺，疑是銀河落九天。  \n",
              "1                    朝辭白帝彩雲間，千裡江陵一日還。兩岸猿聲啼不住，輕舟已過萬重山。  \n",
              "2                    李白乘舟將欲行，忽聞岸上踏歌聲。桃花潭水深千尺，不及汪倫送我情。  \n",
              "3                    故人西辭黃鶴樓，煙花三月下揚州。孤帆遠影碧空儘，唯見長江天際流。  \n",
              "4                            危樓高百尺，手可摘星辰。不敢高聲語，恐驚天上人。  \n",
              "5                            床前明月光，疑是地上霜。舉頭望明月，低頭思故鄉。  \n",
              "6                    天門中斷楚江開，碧水東流至此回。兩岸青山相對出，孤帆一片日邊來。  \n",
              "7                            眾鳥高飛儘，孤雲獨去閒。相看兩不厭，隻有敬亭山。  \n",
              "8   鳳凰台上鳳凰遊，鳳去台空江自流。吳宮花草埋幽徑，晉代衣冠成古丘。三山半落青天外，二水中分白鷺...  \n",
              "9    渡遠荊門外，來從楚國遊。山隨平野儘，江入大荒流。月下飛天境，雲生結海樓。仍憐故鄉水，萬裡送行舟。  \n",
              "10  百川日東流，客去亦不息。我生苦漂蕩，何時有終極。讚公釋門老，放逐來上國。還為世塵嬰，頗帶憔悴...  \n",
              "11  細泉兼輕冰，沮洳棧道濕。不辭辛苦行，迫此短景急。石門雪雲隘，古鎮峰巒集。旌竿暮慘澹，風水白刃...  \n",
              "12  首路栗亭西，尚想鳳凰村。季冬攜童稚，辛苦赴蜀門。南登木皮嶺，艱險不易論。汗流被我體，祁寒為之...  \n",
              "13   落日在簾鉤，溪邊春事幽。芳菲緣岸圃，樵爨倚灘舟。啅雀爭枝墜，飛蟲滿院遊。濁醪誰造汝，一酌散千憂。  \n",
              "14  竇侍禦，驥之子，鳳之雛。年未三十忠義俱，骨鯁絕代無。炯如一段清冰出萬壑，置在迎風寒露之玉壺。...  \n",
              "15   百草競春華，麗春應最勝。少須好顏色，多漫枝條剩。紛紛桃李枝，處處總能移。如何貴此重，卻怕有人知。  \n",
              "16   何年顧虎頭，滿壁畫瀛州。赤日石林氣，青天江海流。錫飛常近鶴，杯度不驚鷗。似得廬山路，真隨惠遠遊。  \n",
              "17  野寺隱喬木，山僧高下居。石門日色異，絳氣橫扶疏。窈窕入風磴，長蘆紛卷舒。庭前猛虎臥，遂得文公...  \n",
              "18  西川有杜鵑，東川無杜鵑。涪萬無杜鵑，雲安有杜鵑。我昔遊錦城，結廬錦水邊。有竹一頃餘，喬木上參...  \n",
              "19  小奴縛雞向市賣，雞被縛急相喧爭。家中厭雞食蟲蟻，不知雞賣還遭烹。蟲雞於人何厚薄，我斥奴人解其...  \n",
              "20                   管妙弦清歌入雲，老人合眼醉醺醺。誠知不及當年聽，猶覺聞時勝不聞。  \n",
              "21  追歡逐樂少閒時，補帖平生得事遲。何處花開曾後看？誰家酒熟不先知？石樓月下吹蘆管，金穀風前舞柳...  \n",
              "22  歲陰生計兩蹉跎，相顧悠悠醉且歌。廚冷難留烏止屋，門閒可與雀張羅。[詩雲：贍烏爰止，於誰之屋？...  \n",
              "23  雨砌長寒蕪，風庭落秋果。窗間有閒叟，儘日看書坐。書中見往事，曆曆知福禍。多取終厚亡，疾驅必先...  \n",
              "24  睡足肢體暢，晨起開中堂。初旭泛簾幕，微風拂衣裳。二婢扶盥櫛，雙童舁簟床。庭東有茂樹，其下多陰...  \n",
              "25  履道西門有弊居，池塘竹樹繞君廬。豪華肥壯雖無分，飽暖安閒即有餘。行灶朝香炊早飯，小園春暖掇新...  \n",
              "26  昨日複今辰，悠悠七十春。所經多故處，卻想似前身。散秩優遊老，閒居淨潔貧。螺杯中有物，鶴氅上無...  \n",
              "27  不與老為期，因何兩鬢絲？才應免夭促，便已及衰羸。昨夜夢何在，明朝身不知。百憂非我所，三樂是吾...  \n",
              "28                   暖床斜臥日曛腰，一覺閒眠百病銷。儘日一飧茶兩碗，更無所要到明朝。  \n",
              "29  選石鋪新路，安橋壓古堤。似從銀漢下，落傍玉川西。影定欄杆倒，標高華表齊。煙開虹半見，月冷鶴雙...  "
            ],
            "text/html": [
              "\n",
              "  <div id=\"df-9a866d3c-be2f-41c2-9b1d-118cdcb97842\">\n",
              "    <div class=\"colab-df-container\">\n",
              "      <div>\n",
              "<style scoped>\n",
              "    .dataframe tbody tr th:only-of-type {\n",
              "        vertical-align: middle;\n",
              "    }\n",
              "\n",
              "    .dataframe tbody tr th {\n",
              "        vertical-align: top;\n",
              "    }\n",
              "\n",
              "    .dataframe thead th {\n",
              "        text-align: right;\n",
              "    }\n",
              "</style>\n",
              "<table border=\"1\" class=\"dataframe\">\n",
              "  <thead>\n",
              "    <tr style=\"text-align: right;\">\n",
              "      <th></th>\n",
              "      <th>作者</th>\n",
              "      <th>詩名</th>\n",
              "      <th>內容</th>\n",
              "    </tr>\n",
              "  </thead>\n",
              "  <tbody>\n",
              "    <tr>\n",
              "      <th>0</th>\n",
              "      <td>李白</td>\n",
              "      <td>望廬山瀑布</td>\n",
              "      <td>日照香爐生紫煙，遙看瀑布掛前川。飛流直下三千尺，疑是銀河落九天。</td>\n",
              "    </tr>\n",
              "    <tr>\n",
              "      <th>1</th>\n",
              "      <td>李白</td>\n",
              "      <td>早發白帝城</td>\n",
              "      <td>朝辭白帝彩雲間，千裡江陵一日還。兩岸猿聲啼不住，輕舟已過萬重山。</td>\n",
              "    </tr>\n",
              "    <tr>\n",
              "      <th>2</th>\n",
              "      <td>李白</td>\n",
              "      <td>贈汪倫</td>\n",
              "      <td>李白乘舟將欲行，忽聞岸上踏歌聲。桃花潭水深千尺，不及汪倫送我情。</td>\n",
              "    </tr>\n",
              "    <tr>\n",
              "      <th>3</th>\n",
              "      <td>李白</td>\n",
              "      <td>送孟浩然之廣陵</td>\n",
              "      <td>故人西辭黃鶴樓，煙花三月下揚州。孤帆遠影碧空儘，唯見長江天際流。</td>\n",
              "    </tr>\n",
              "    <tr>\n",
              "      <th>4</th>\n",
              "      <td>李白</td>\n",
              "      <td>夜宿山寺</td>\n",
              "      <td>危樓高百尺，手可摘星辰。不敢高聲語，恐驚天上人。</td>\n",
              "    </tr>\n",
              "    <tr>\n",
              "      <th>5</th>\n",
              "      <td>李白</td>\n",
              "      <td>靜夜思</td>\n",
              "      <td>床前明月光，疑是地上霜。舉頭望明月，低頭思故鄉。</td>\n",
              "    </tr>\n",
              "    <tr>\n",
              "      <th>6</th>\n",
              "      <td>李白</td>\n",
              "      <td>望天門山</td>\n",
              "      <td>天門中斷楚江開，碧水東流至此回。兩岸青山相對出，孤帆一片日邊來。</td>\n",
              "    </tr>\n",
              "    <tr>\n",
              "      <th>7</th>\n",
              "      <td>李白</td>\n",
              "      <td>獨坐敬亭山</td>\n",
              "      <td>眾鳥高飛儘，孤雲獨去閒。相看兩不厭，隻有敬亭山。</td>\n",
              "    </tr>\n",
              "    <tr>\n",
              "      <th>8</th>\n",
              "      <td>李白</td>\n",
              "      <td>登金陵鳳凰台</td>\n",
              "      <td>鳳凰台上鳳凰遊，鳳去台空江自流。吳宮花草埋幽徑，晉代衣冠成古丘。三山半落青天外，二水中分白鷺...</td>\n",
              "    </tr>\n",
              "    <tr>\n",
              "      <th>9</th>\n",
              "      <td>李白</td>\n",
              "      <td>渡荊門送彆</td>\n",
              "      <td>渡遠荊門外，來從楚國遊。山隨平野儘，江入大荒流。月下飛天境，雲生結海樓。仍憐故鄉水，萬裡送行舟。</td>\n",
              "    </tr>\n",
              "    <tr>\n",
              "      <th>10</th>\n",
              "      <td>杜甫</td>\n",
              "      <td>彆讚上人</td>\n",
              "      <td>百川日東流，客去亦不息。我生苦漂蕩，何時有終極。讚公釋門老，放逐來上國。還為世塵嬰，頗帶憔悴...</td>\n",
              "    </tr>\n",
              "    <tr>\n",
              "      <th>11</th>\n",
              "      <td>杜甫</td>\n",
              "      <td>龍門鎮</td>\n",
              "      <td>細泉兼輕冰，沮洳棧道濕。不辭辛苦行，迫此短景急。石門雪雲隘，古鎮峰巒集。旌竿暮慘澹，風水白刃...</td>\n",
              "    </tr>\n",
              "    <tr>\n",
              "      <th>12</th>\n",
              "      <td>杜甫</td>\n",
              "      <td>木皮嶺</td>\n",
              "      <td>首路栗亭西，尚想鳳凰村。季冬攜童稚，辛苦赴蜀門。南登木皮嶺，艱險不易論。汗流被我體，祁寒為之...</td>\n",
              "    </tr>\n",
              "    <tr>\n",
              "      <th>13</th>\n",
              "      <td>杜甫</td>\n",
              "      <td>落日</td>\n",
              "      <td>落日在簾鉤，溪邊春事幽。芳菲緣岸圃，樵爨倚灘舟。啅雀爭枝墜，飛蟲滿院遊。濁醪誰造汝，一酌散千憂。</td>\n",
              "    </tr>\n",
              "    <tr>\n",
              "      <th>14</th>\n",
              "      <td>杜甫</td>\n",
              "      <td>入奏行贈西山檢察使竇侍禦</td>\n",
              "      <td>竇侍禦，驥之子，鳳之雛。年未三十忠義俱，骨鯁絕代無。炯如一段清冰出萬壑，置在迎風寒露之玉壺。...</td>\n",
              "    </tr>\n",
              "    <tr>\n",
              "      <th>15</th>\n",
              "      <td>杜甫</td>\n",
              "      <td>麗春</td>\n",
              "      <td>百草競春華，麗春應最勝。少須好顏色，多漫枝條剩。紛紛桃李枝，處處總能移。如何貴此重，卻怕有人知。</td>\n",
              "    </tr>\n",
              "    <tr>\n",
              "      <th>16</th>\n",
              "      <td>杜甫</td>\n",
              "      <td>題玄武禪師屋壁</td>\n",
              "      <td>何年顧虎頭，滿壁畫瀛州。赤日石林氣，青天江海流。錫飛常近鶴，杯度不驚鷗。似得廬山路，真隨惠遠遊。</td>\n",
              "    </tr>\n",
              "    <tr>\n",
              "      <th>17</th>\n",
              "      <td>杜甫</td>\n",
              "      <td>謁文公上方</td>\n",
              "      <td>野寺隱喬木，山僧高下居。石門日色異，絳氣橫扶疏。窈窕入風磴，長蘆紛卷舒。庭前猛虎臥，遂得文公...</td>\n",
              "    </tr>\n",
              "    <tr>\n",
              "      <th>18</th>\n",
              "      <td>杜甫</td>\n",
              "      <td>杜鵑</td>\n",
              "      <td>西川有杜鵑，東川無杜鵑。涪萬無杜鵑，雲安有杜鵑。我昔遊錦城，結廬錦水邊。有竹一頃餘，喬木上參...</td>\n",
              "    </tr>\n",
              "    <tr>\n",
              "      <th>19</th>\n",
              "      <td>杜甫</td>\n",
              "      <td>縛雞行</td>\n",
              "      <td>小奴縛雞向市賣，雞被縛急相喧爭。家中厭雞食蟲蟻，不知雞賣還遭烹。蟲雞於人何厚薄，我斥奴人解其...</td>\n",
              "    </tr>\n",
              "    <tr>\n",
              "      <th>20</th>\n",
              "      <td>白居易</td>\n",
              "      <td>聽歌</td>\n",
              "      <td>管妙弦清歌入雲，老人合眼醉醺醺。誠知不及當年聽，猶覺聞時勝不聞。</td>\n",
              "    </tr>\n",
              "    <tr>\n",
              "      <th>21</th>\n",
              "      <td>白居易</td>\n",
              "      <td>追歡偶作</td>\n",
              "      <td>追歡逐樂少閒時，補帖平生得事遲。何處花開曾後看？誰家酒熟不先知？石樓月下吹蘆管，金穀風前舞柳...</td>\n",
              "    </tr>\n",
              "    <tr>\n",
              "      <th>22</th>\n",
              "      <td>白居易</td>\n",
              "      <td>酬夢得貧居詠懷見贈</td>\n",
              "      <td>歲陰生計兩蹉跎，相顧悠悠醉且歌。廚冷難留烏止屋，門閒可與雀張羅。[詩雲：贍烏爰止，於誰之屋？...</td>\n",
              "    </tr>\n",
              "    <tr>\n",
              "      <th>23</th>\n",
              "      <td>白居易</td>\n",
              "      <td>閒坐看書貽諸少年</td>\n",
              "      <td>雨砌長寒蕪，風庭落秋果。窗間有閒叟，儘日看書坐。書中見往事，曆曆知福禍。多取終厚亡，疾驅必先...</td>\n",
              "    </tr>\n",
              "    <tr>\n",
              "      <th>24</th>\n",
              "      <td>白居易</td>\n",
              "      <td>二年三月五日齋畢開素當食偶吟贈妻弘農郡君</td>\n",
              "      <td>睡足肢體暢，晨起開中堂。初旭泛簾幕，微風拂衣裳。二婢扶盥櫛，雙童舁簟床。庭東有茂樹，其下多陰...</td>\n",
              "    </tr>\n",
              "    <tr>\n",
              "      <th>25</th>\n",
              "      <td>白居易</td>\n",
              "      <td>履道西門二首</td>\n",
              "      <td>履道西門有弊居，池塘竹樹繞君廬。豪華肥壯雖無分，飽暖安閒即有餘。行灶朝香炊早飯，小園春暖掇新...</td>\n",
              "    </tr>\n",
              "    <tr>\n",
              "      <th>26</th>\n",
              "      <td>白居易</td>\n",
              "      <td>昨日複今辰</td>\n",
              "      <td>昨日複今辰，悠悠七十春。所經多故處，卻想似前身。散秩優遊老，閒居淨潔貧。螺杯中有物，鶴氅上無...</td>\n",
              "    </tr>\n",
              "    <tr>\n",
              "      <th>27</th>\n",
              "      <td>白居易</td>\n",
              "      <td>不與老為期</td>\n",
              "      <td>不與老為期，因何兩鬢絲？才應免夭促，便已及衰羸。昨夜夢何在，明朝身不知。百憂非我所，三樂是吾...</td>\n",
              "    </tr>\n",
              "    <tr>\n",
              "      <th>28</th>\n",
              "      <td>白居易</td>\n",
              "      <td>閒眠</td>\n",
              "      <td>暖床斜臥日曛腰，一覺閒眠百病銷。儘日一飧茶兩碗，更無所要到明朝。</td>\n",
              "    </tr>\n",
              "    <tr>\n",
              "      <th>29</th>\n",
              "      <td>白居易</td>\n",
              "      <td>和李相公留守題漕上新橋六韻　同用黎字。</td>\n",
              "      <td>選石鋪新路，安橋壓古堤。似從銀漢下，落傍玉川西。影定欄杆倒，標高華表齊。煙開虹半見，月冷鶴雙...</td>\n",
              "    </tr>\n",
              "  </tbody>\n",
              "</table>\n",
              "</div>\n",
              "      <button class=\"colab-df-convert\" onclick=\"convertToInteractive('df-9a866d3c-be2f-41c2-9b1d-118cdcb97842')\"\n",
              "              title=\"Convert this dataframe to an interactive table.\"\n",
              "              style=\"display:none;\">\n",
              "        \n",
              "  <svg xmlns=\"http://www.w3.org/2000/svg\" height=\"24px\"viewBox=\"0 0 24 24\"\n",
              "       width=\"24px\">\n",
              "    <path d=\"M0 0h24v24H0V0z\" fill=\"none\"/>\n",
              "    <path d=\"M18.56 5.44l.94 2.06.94-2.06 2.06-.94-2.06-.94-.94-2.06-.94 2.06-2.06.94zm-11 1L8.5 8.5l.94-2.06 2.06-.94-2.06-.94L8.5 2.5l-.94 2.06-2.06.94zm10 10l.94 2.06.94-2.06 2.06-.94-2.06-.94-.94-2.06-.94 2.06-2.06.94z\"/><path d=\"M17.41 7.96l-1.37-1.37c-.4-.4-.92-.59-1.43-.59-.52 0-1.04.2-1.43.59L10.3 9.45l-7.72 7.72c-.78.78-.78 2.05 0 2.83L4 21.41c.39.39.9.59 1.41.59.51 0 1.02-.2 1.41-.59l7.78-7.78 2.81-2.81c.8-.78.8-2.07 0-2.86zM5.41 20L4 18.59l7.72-7.72 1.47 1.35L5.41 20z\"/>\n",
              "  </svg>\n",
              "      </button>\n",
              "      \n",
              "  <style>\n",
              "    .colab-df-container {\n",
              "      display:flex;\n",
              "      flex-wrap:wrap;\n",
              "      gap: 12px;\n",
              "    }\n",
              "\n",
              "    .colab-df-convert {\n",
              "      background-color: #E8F0FE;\n",
              "      border: none;\n",
              "      border-radius: 50%;\n",
              "      cursor: pointer;\n",
              "      display: none;\n",
              "      fill: #1967D2;\n",
              "      height: 32px;\n",
              "      padding: 0 0 0 0;\n",
              "      width: 32px;\n",
              "    }\n",
              "\n",
              "    .colab-df-convert:hover {\n",
              "      background-color: #E2EBFA;\n",
              "      box-shadow: 0px 1px 2px rgba(60, 64, 67, 0.3), 0px 1px 3px 1px rgba(60, 64, 67, 0.15);\n",
              "      fill: #174EA6;\n",
              "    }\n",
              "\n",
              "    [theme=dark] .colab-df-convert {\n",
              "      background-color: #3B4455;\n",
              "      fill: #D2E3FC;\n",
              "    }\n",
              "\n",
              "    [theme=dark] .colab-df-convert:hover {\n",
              "      background-color: #434B5C;\n",
              "      box-shadow: 0px 1px 3px 1px rgba(0, 0, 0, 0.15);\n",
              "      filter: drop-shadow(0px 1px 2px rgba(0, 0, 0, 0.3));\n",
              "      fill: #FFFFFF;\n",
              "    }\n",
              "  </style>\n",
              "\n",
              "      <script>\n",
              "        const buttonEl =\n",
              "          document.querySelector('#df-9a866d3c-be2f-41c2-9b1d-118cdcb97842 button.colab-df-convert');\n",
              "        buttonEl.style.display =\n",
              "          google.colab.kernel.accessAllowed ? 'block' : 'none';\n",
              "\n",
              "        async function convertToInteractive(key) {\n",
              "          const element = document.querySelector('#df-9a866d3c-be2f-41c2-9b1d-118cdcb97842');\n",
              "          const dataTable =\n",
              "            await google.colab.kernel.invokeFunction('convertToInteractive',\n",
              "                                                     [key], {});\n",
              "          if (!dataTable) return;\n",
              "\n",
              "          const docLinkHtml = 'Like what you see? Visit the ' +\n",
              "            '<a target=\"_blank\" href=https://colab.research.google.com/notebooks/data_table.ipynb>data table notebook</a>'\n",
              "            + ' to learn more about interactive tables.';\n",
              "          element.innerHTML = '';\n",
              "          dataTable['output_type'] = 'display_data';\n",
              "          await google.colab.output.renderOutput(dataTable, element);\n",
              "          const docLink = document.createElement('div');\n",
              "          docLink.innerHTML = docLinkHtml;\n",
              "          element.appendChild(docLink);\n",
              "        }\n",
              "      </script>\n",
              "    </div>\n",
              "  </div>\n",
              "  "
            ]
          },
          "metadata": {},
          "execution_count": 18
        }
      ]
    },
    {
      "cell_type": "code",
      "source": [
        "from numpy.lib.arraysetops import unique\n",
        "# 進到所有函式庫之前，全部都是數字\n",
        "# Series.value_counts/unique\n",
        "# Series.replace(字典)  {\"李白\":0, \"杜甫\":1, \"白居易\":2}\n",
        "poets = train_df[\"作者\"].unique()\n",
        "\n",
        "poet2idx = {poets[i]:i for i in range(len(poets))}\n",
        "idx2poet = {i:poets[i] for i in range(len(poets))}\n",
        "poet2idx"
      ],
      "metadata": {
        "colab": {
          "base_uri": "https://localhost:8080/"
        },
        "id": "oUcSRfAkr7yh",
        "outputId": "e4edd340-849b-430e-d51b-4c894c65e70d"
      },
      "execution_count": null,
      "outputs": [
        {
          "output_type": "execute_result",
          "data": {
            "text/plain": [
              "{'李白': 0, '杜甫': 1, '白居易': 2}"
            ]
          },
          "metadata": {},
          "execution_count": 19
        }
      ]
    },
    {
      "cell_type": "code",
      "source": [
        "from os import replace\n",
        "import numpy as np\n",
        "y_train = np.array(train_df[\"作者\"].replace(poet2idx))\n",
        "y_test = np.array(test_df[\"作者\"].replace(poet2idx))\n",
        "\n",
        "y_test"
      ],
      "metadata": {
        "colab": {
          "base_uri": "https://localhost:8080/"
        },
        "id": "sdQTopKdzalE",
        "outputId": "7567b537-390b-48f6-d8c8-f2c7fa097bd0"
      },
      "execution_count": null,
      "outputs": [
        {
          "output_type": "execute_result",
          "data": {
            "text/plain": [
              "array([0, 0, 0, 0, 0, 0, 0, 0, 0, 0, 1, 1, 1, 1, 1, 1, 1, 1, 1, 1, 2, 2,\n",
              "       2, 2, 2, 2, 2, 2, 2, 2])"
            ]
          },
          "metadata": {},
          "execution_count": 37
        }
      ]
    },
    {
      "cell_type": "code",
      "source": [
        "import jieba\n",
        "# 分詞：使用jieba載入大辭典（此處略過因為結果差不多）\n",
        "#  s =\"平林漠漠煙如織，寒山一帶傷心碧。\"\n",
        "# \" \".join(jieba.cut(s))\n",
        "# Series.apply(func):轉換操作\n",
        "\n",
        "def trans(s):\n",
        "  return \" \".join(jieba.cut(s))\n",
        "\n",
        "x_train = train_df[\"內容\"].apply(trans)\n",
        "x_test = test_df[\"內容\"].apply(trans)\n",
        "x_test\n"
      ],
      "metadata": {
        "colab": {
          "base_uri": "https://localhost:8080/"
        },
        "id": "vK1RrYRY7dI4",
        "outputId": "5320c259-6eef-48f8-ac1e-f898820901ff"
      },
      "execution_count": null,
      "outputs": [
        {
          "output_type": "execute_result",
          "data": {
            "text/plain": [
              "0       日照 香爐 生 紫煙 ， 遙看 瀑布 掛 前川 。 飛流直下三千尺 ， 疑是 銀河 落九天 。\n",
              "1     朝辭 白帝 彩雲 間 ， 千裡 江陵 一日 還 。 兩岸 猿聲 啼 不住 ， 輕舟 已過 萬...\n",
              "2      李白 乘舟 將欲行 ， 忽聞 岸上 踏 歌聲 。 桃花潭水 深 千尺 ， 不及 汪倫送 我情 。\n",
              "3     故人 西辭 黃鶴樓 ， 煙花 三月 下 揚州 。 孤帆 遠影 碧空 儘 ， 唯見 長江 天際...\n",
              "4                危樓 高 百尺 ， 手可摘 星辰 。 不敢 高聲 語 ， 恐驚 天上 人 。\n",
              "5                 床前 明月光 ， 疑是 地上 霜 。 舉頭 望明月 ， 低頭 思 故鄉 。\n",
              "6     天門 中斷 楚江 開 ， 碧水 東流 至此 回 。 兩岸 青山 相對 出 ， 孤帆 一片 日...\n",
              "7              眾鳥 高 飛 儘 ， 孤雲獨 去 閒 。 相看 兩 不厭 ， 隻 有 敬亭山 。\n",
              "8     鳳凰 台上 鳳凰 遊 ， 鳳去 台空江 自流 。 吳宮 花草 埋 幽徑 ， 晉代 衣冠 成古...\n",
              "9     渡遠 荊門 外 ， 來 從 楚國 遊 。 山 隨 平野 儘 ， 江入 大荒 流 。 月 下 ...\n",
              "10    百川 日 東流 ， 客去 亦 不息 。 我 生苦 漂 蕩 ， 何時 有 終極 。 讚 公 釋...\n",
              "11    細泉 兼 輕冰 ， 沮洳 棧道 濕 。 不辭辛苦 行 ， 迫此 短景急 。 石門 雪雲隘 ，...\n",
              "12    首路 栗亭 西 ， 尚想 鳳凰 村 。 季冬 攜 童稚 ， 辛苦 赴 蜀門 。 南登 木皮 ...\n",
              "13    落日 在 簾 鉤 ， 溪邊 春事 幽 。 芳菲 緣岸 圃 ， 樵 爨 倚灘 舟 。 啅 雀 ...\n",
              "14    竇侍 禦 ， 驥 之子 ， 鳳之雛 。 年 未 三十 忠義 俱 ， 骨鯁 絕代 無 。 炯 ...\n",
              "15    百草 競春 華 ， 麗春應 最勝 。 少須 好 顏色 ， 多漫 枝條 剩 。 紛紛 桃李 枝...\n",
              "16    何年 顧 虎頭 ， 滿 壁畫 瀛州 。 赤日 石林 氣 ， 青天 江海 流 。 錫飛常 近鶴...\n",
              "17    野寺 隱 喬木 ， 山僧 高下 居 。 石門 日色異 ， 絳 氣橫 扶疏 。 窈窕 入風 磴...\n",
              "18    西川 有 杜鵑 ， 東川 無 杜鵑 。 涪萬 無 杜鵑 ， 雲安 有 杜鵑 。 我 昔遊 錦...\n",
              "19    小奴 縛雞 向 市 賣 ， 雞 被縛 急 相 喧爭 。 家中 厭 雞食 蟲蟻 ， 不知 雞賣...\n",
              "20    管妙 弦 清歌 入 雲 ， 老人 合眼 醉醺醺 。 誠知 不及 當年 聽 ， 猶覺 聞時 勝...\n",
              "21    追歡 逐樂少 閒時 ， 補帖 平生 得事遲 。 何處 花開 曾後看 ？ 誰家 酒熟 不 先知...\n",
              "22    歲 陰 生計 兩 蹉跎 ， 相顧 悠悠 醉且 歌 。 廚冷 難留 烏止 屋 ， 門閒 可 與...\n",
              "23    雨 砌 長 寒蕪 ， 風庭 落秋果 。 窗間 有 閒叟 ， 儘 日 看書 坐 。 書中見 往...\n",
              "24    睡足 肢體 暢 ， 晨起 開 中堂 。 初旭泛 簾幕 ， 微風 拂 衣裳 。 二婢 扶 盥櫛...\n",
              "25    履道 西門 有弊 居 ， 池塘 竹樹繞 君廬 。 豪華 肥壯 雖無分 ， 飽暖 安閒 即 有...\n",
              "26    昨日 複 今辰 ， 悠悠 七十 春 。 所經 多 故處 ， 卻 想 似 前身 。 散 秩 優...\n",
              "27    不 與 老為期 ， 因何 兩鬢 絲 ？ 才 應免 夭促 ， 便 已 及 衰 羸 。 昨夜 夢...\n",
              "28    暖床 斜 臥日 曛 腰 ， 一覺 閒眠 百病 銷 。 儘 日 一 飧 茶 兩碗 ， 更無所要...\n",
              "29    選石 鋪 新路 ， 安橋 壓古堤 。 似 從 銀漢 下 ， 落傍玉 川西 。 影定 欄杆 倒...\n",
              "Name: 內容, dtype: object"
            ]
          },
          "metadata": {},
          "execution_count": 38
        }
      ]
    },
    {
      "cell_type": "code",
      "source": [
        "from sklearn.feature_extraction.text import CountVectorizer\n",
        "vec = CountVectorizer()\n",
        "x_train_count = vec.fit_transform(x_train)\n",
        "x_test_count = vec.transform(x_test)\n"
      ],
      "metadata": {
        "id": "_7hOeGpeJb8X"
      },
      "execution_count": null,
      "outputs": []
    },
    {
      "cell_type": "code",
      "source": [
        "# 標點符號和換行符號都被sklearn消除\n",
        "# vec.vocabulary_"
      ],
      "metadata": {
        "id": "rH2qfjyYL3CZ"
      },
      "execution_count": null,
      "outputs": []
    },
    {
      "cell_type": "code",
      "source": [
        "# 稀疏矩陣：只存非０位置\n",
        "x_train_count"
      ],
      "metadata": {
        "colab": {
          "base_uri": "https://localhost:8080/"
        },
        "id": "thvmb74jMB6O",
        "outputId": "fee09f22-2165-4d50-d5a7-752b89140182"
      },
      "execution_count": null,
      "outputs": [
        {
          "output_type": "execute_result",
          "data": {
            "text/plain": [
              "<2731x47281 sparse matrix of type '<class 'numpy.int64'>'\n",
              "\twith 88272 stored elements in Compressed Sparse Row format>"
            ]
          },
          "metadata": {},
          "execution_count": 41
        }
      ]
    },
    {
      "cell_type": "code",
      "source": [
        "from sklearn.naive_bayes import MultinomialNB\n",
        "clf = MultinomialNB()\n",
        "clf.fit(x_train_count, y_train)"
      ],
      "metadata": {
        "colab": {
          "base_uri": "https://localhost:8080/"
        },
        "id": "Ykor2FSTNYe2",
        "outputId": "cb8241a7-dba6-4bf7-acb5-79192416ceaa"
      },
      "execution_count": null,
      "outputs": [
        {
          "output_type": "execute_result",
          "data": {
            "text/plain": [
              "MultinomialNB()"
            ]
          },
          "metadata": {},
          "execution_count": 42
        }
      ]
    },
    {
      "cell_type": "code",
      "source": [
        "from sklearn.metrics import accuracy_score\n",
        "pre = clf.predict(x_test_count)\n",
        "accuracy_score(y_test, pre)"
      ],
      "metadata": {
        "colab": {
          "base_uri": "https://localhost:8080/"
        },
        "id": "4jqGa_RQOcH-",
        "outputId": "5e4bcea5-480d-4f80-f724-8e30fc9f585f"
      },
      "execution_count": null,
      "outputs": [
        {
          "output_type": "execute_result",
          "data": {
            "text/plain": [
              "0.7"
            ]
          },
          "metadata": {},
          "execution_count": 43
        }
      ]
    }
  ]
}